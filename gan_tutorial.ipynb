{
 "cells": [
  {
   "cell_type": "markdown",
   "metadata": {
    "collapsed": true,
    "pycharm": {
     "name": "#%% md\n"
    }
   },
   "source": [
    "# Tutorial: Generative Adversarial Networks - Advanced Techniques\n",
    "### - *Jonas Glombitza, RWTH Aachen University, IML 2019, CERN*\n",
    "This tutorial is about _generative models_ and especially **Generative Adversarial Networks** (**GANs**).\n",
    "In this tutorial we will implement different types of GANs, which were proposed recently:\n",
    "- Vanilla GAN - https://arxiv.org/abs/1406.2661\n",
    "- Conditional GAN - https://arxiv.org/abs/1610.09585\n",
    "- Wasserstein GAN (WGAN-GP) - https://arxiv.org/abs/1704.00028\n",
    "- Spectral Normalization SN-GAN - https://arxiv.org/abs/1802.05957\n",
    "\n",
    "and learn about further techniques to stabilize the training of GANs. (DCGANs, conditioning of the generator ...).\n",
    "To train our generative models, we will have a look on three different data sets (1 from computer vision, 2 physics data sets):\n",
    "1. [ CIFAR10 ](https://www.cs.toronto.edu/~kriz/cifar.html)\n",
    "2. [ Footprints of Cosmic Ray induced Air Showers ](https://link.springer.com/article/10.1007/s41781-018-0008-x)\n",
    "3. [ Electromagnetic Calorimeter Images (multi-layer) ](https://doi.org/10.1007/s41781-018-0019-7)\n",
    "\n",
    "As framework, we make use of [TensorFlow](https://www.tensorflow.org/) and especially:\n",
    "- [Keras](https://keras.io/): Keras API shipped with TensorFlow\n",
    "- [TensorFlow-GAN](https://github.com/tensorflow/tensorflow/tree/master/tensorflow/contrib/gan): lightweight library for training GANs\n",
    "\n",
    "#### Table of contents\n",
    "1. [ Basics ](#basics)\n",
    "\n",
    "2. [ Generative Adversarial Networks ](#gan)\n",
    " 1. [ Theory ](#gan_theory)\n",
    " 2. [ CIFAR10: Example](#gan_code)\n",
    " 3. [Implementation](#gan_code)\n",
    " \n",
    "3. [ Wasserstein GANs ](#wgan)\n",
    " 1. [ Theory ](#wgan_theory)\n",
    " 2. [ CIFAR10: Example](#wgan_code)\n",
    " 3. [ Results](#wgan_result)\n",
    " \n",
    "4. [ Spectral Normalization for GANs ](#sngan)\n",
    " 1. [ Theory ](#sngan_theory)\n",
    " 2. [ Physics Example: Cosmic Ray induces Air Showers](#sngan_code)\n",
    " 3. [ Results](#sngan_result)\n",
    " \n",
    "5. [ Calorimeter Images](#calgan)\n",
    " 1. [ Generator conditioning ](#calgan_theory)\n",
    " 2. [ Physics Example: Calorimeter images](#calgan_code)\n",
    " 3. [ Results](#calgan_result)\n",
    "   \n",
    "   \n",
    "<a name=\"basics\"></a>\n",
    "## Basics\n",
    "\n",
    "\n",
    "<details><summary> <button type=\"button\">Display detailed text</button> </summary>\n",
    "<p>\n",
    "\n",
    "### Generative models\n",
    "Before we jump in to the implementation of several GANs, we need to introduce _Generative Models_.\n",
    "\n",
    "Let us assume we have a bunch of images which forms the distribution of real images $P_{r}$.\n",
    "In our case (CIFAR10 dataset) the distribution consists of several classes: `horse, airplane, bird, frog, truck, deer, cat, dog, car, ship`.\n",
    "Instead of training a classifier to be able to label our data we now would like to generate samples which are \n",
    "similar to samples in the distributio $P_{r}$ formed by the bunch of images.\n",
    "The clue is, that we would like t generate **new samples** which were **not part** of the dataset, but look really similar.\n",
    " \n",
    "![CIFAR 10 Image](images/CIFAR10_collection.png)\n",
    "\n",
    "So in a mathematical way, we would like to approximate the real distribution $P_{r}$ with a model $P_{\\theta}$.\n",
    "With this *generative* model, we then would like to generate new samples out of our approximation $x \\sim P_{\\theta}$.\n",
    "\n",
    "<a name=\"gan\"></a>\n",
    "### Generative Adversarial Networks\n",
    "The basic idea of Generative Adversarial Networks (GANs) is to train a **generator network** to learn the underlying distribution.<sup>[1](#myfootnote1)</sup>\n",
    "In other words, we would like to design a generator machine, we can feed with noise and which outputs us nice samples following\n",
    "the distribution of real images $P_{r}$, but which were not part of the training dataset.\n",
    "So in our case, we would like to generate new samples of airplanes, cars, dogs etc..\n",
    " \n",
    " <img src=\"images/generator_machine.png\" alt=\"drawing\" width=\"800\"/>\n",
    "\n",
    "In our setup we use a neural network $G(z)$ as generator machine. \n",
    "The generator network $G(z)$ gets as input a noise vector $z$ sampled from a muldimensional noise distribution $z \\sim p(z)$.\n",
    "This space of $z$ is often called the latent space. The generator should then map the noise vector $z$ into the data space (the space where our\n",
    "real data samples lie) and output new samples/images $\\tilde{x} \\sim G(z)$. We would like to have these $\\tilde{x}$ very similar to the real samples $x \\sim P_{r}$.\n",
    "\n",
    "For the training of our generator network we need feedback, if the generated samples are of good or bad quality.\n",
    "Because a classical supervised loss is incapable for giving a good feedback to the generator network, it is trained in an unsupervised manner.\n",
    "So instead of using \"mean squared error\" or similar metrics, the performance measure is given by a **second** _adversarial_ neural network, which is called _discriminator_.\n",
    "In the vanilla GAN setup, the way of measuring the quality of the generated sampels should be given by a classifier which is trained\n",
    "to classify between fake `class=0` (generated by our generator network) and real images `class=1` (from our bunch of images).\n",
    "\n",
    "The clue is now, that the generator should try to fool the discriminator.\n",
    "So, by adapting the generator weights the discriminator should fail to identify the fake images, and should output `class=1` (real images)\n",
    "when generated images are input. The crucial thing is, that we can directly get this feedback when stacking the generator on top\n",
    "of the discriminator to build our GAN framework. Because both are neural networks, we just can propagate the gradient \n",
    "through the discriminator to the generator, which can then adapts it weights to generate samples of better quality.\n",
    "In simple words, the generator should change the weights in a way to generate images which hold features the discriminator identifies\n",
    "as features from real images.\n",
    "When iteratively adapting the weights of the discriminator and generator, the performance of generated images should increase stepwise.\n",
    "This is the fascinating idea of _adversarial training_.\n",
    "\n",
    "\n",
    "<img src=\"images/adversarial_training_sketch.png\" alt=\"drawing\" width=\"800\"/>\n",
    "\n",
    "In a very figurative sense, the discriminator could be seen as painter which is able to classify between\n",
    "real images and fake images, because he knows a little bit about colors and art. We now would like to build a generator machine\n",
    "which produce nice photographs.\n",
    "The idea is, to fool the painter (discriminator) by changing the parameters of our generator machine.\n",
    "Because the painter has knowledge how \"real images\" look like, the feedback of him helps to let our generator machine generate\n",
    "images of better quality.\n",
    "\n",
    "<a name=\"gan_theory\"></a>\n",
    "#### Adversarial training\n",
    "After introducing the basic idea of adversarial training, let us now understand the math and focus on the algorithm itself.\n",
    " \n",
    "Our adversarial framework consists out of 2 networks:\n",
    "- the generator network $G$ (learn the mapping from noise $z$ to images $\\tilde{x}$)\n",
    "- the discriminator $D$ network (measures the image quality, by discriminating if the images are true `class=1` or fake `class=0`)\n",
    "\n",
    "The iterative update procedure of the framework is as follows:\n",
    "    1. Discriminator update: Train the discriminator to classify between fake and real images\n",
    "    2. Generator update: Train the generator to fool the generator\n",
    "    -  Repeat from beginning\n",
    "\n",
    "\n",
    "##### Discriminator update\n",
    "Sample noise vector from the latent space $z \\sim p(z)$.\n",
    "Generate new fake samples by feeding the sampled vector $z$ in to the generator $G(z)$ to obtain the new samples $\\tilde{x} \\sim G(z)$.\n",
    "Subsequently, we sample from the real distribution and obtain a bunch of samples $ x \\sim P_{r}$.\n",
    "We now train the discriminator using the binary cross entropy by changing the weights $w$ of the discriminator:\n",
    "\n",
    "$ \\mathcal{L}_{Dis} = \\min{ -\\mathbb{E}_{\\mathbf{x} \\sim p_{data}(\\mathbf{x})} [log(D_w(\\mathbf{x}))] - \\mathbb{E}_{\\mathbf{z} \\sim p_z(\\mathbf{z})} [log(1-D_w(G_{\\theta}(\\mathbf{z})))]}$\n",
    "\n",
    "This is just the typical supervised training of a classifier.\n",
    "\n",
    "\n",
    "##### Generator update\n",
    "Sample noise from the latent space $z \\sim p(z)$\n",
    "Generate new fake samples by feeding the noise into the generator $G(z)$ and obtain a bunch of generated samples $\\tilde{x} \\sim G(z)$\n",
    "Now we freeze the weights $w$ of the discriminator.\n",
    "Finally, we train the generator to fool the discriminator, by adapting the weights $\\theta$ of our generator network:\n",
    "\n",
    "$ \\mathcal{L}_{Gen} = \\max{ -\\mathbb{E}_{\\mathbf{z} \\sim p_z(\\mathbf{z})} [log(1-D_w(G_{\\theta}(\\mathbf{z})))]}$\n",
    "\n",
    "By iteratively passing these steps of discriminator and generator updates, we train our framework.\n",
    "\n",
    "### Architectures\n",
    "Building a powerful architecture of the discriminator and generator is rucial for successful GAN training.\n",
    "Remember, that the generator maps from the latent space into the data space.\n",
    "Hence, the input should be a 1D-vector of noise variables and the output should have image dimensions.\n",
    "In this case the output will have the dimension `(32, 32, 3)`. (3 color channels: RGB)\n",
    "\n",
    "[Radford, Metz, and Chintala](https://arxiv.org/abs/1511.06434) proposed stable architectures for generator and discriminator networks.\n",
    "These DCGAN \"guidelines\" can be summarized as follows:\n",
    "- Replace fully connected layers with convolutional layers\n",
    "- Do not use pooling layers, use striding instead\n",
    "- Make use of batch normalization in generator and discriminator to stabilize training<sup>[2](#myfootnote2)</sup>\n",
    "- Use [LeakyReLU](https://arxiv.org/pdf/1505.00853.pdf) activation in discriminator for better feedback<sup>[3](#myfootnote3)</sup>\n",
    "- Use a pyramidal topology in the generator by using transposed convolutions, to support a simple and strucutred latent space\n",
    "\n",
    "<img src=\"images/DCGAN_generator.png\" alt=\"drawing\" width=\"800\"/>\n",
    "<div style=\"text-align: right\"> image credit: Radford, Metz, Chintala </div>\n",
    "\n",
    "\n",
    "--- Footnotes\n",
    "\n",
    "<a name=\"myfootnote1\">1</a>: In contrast to e.g. _Variational Autoencoders_ the idea is not to \"fit the distribution in a space of compressed representation\"\n",
    "but to train a generator which approximates the real distribution directly.\n",
    "Remember that in VAEs we learn a mapping in to the latent space where we can \"fit\" a gaussian. Therefore, after the training we can just\n",
    "generate new samples by sampling from the latent space using the Gaussian prior.\n",
    "Because most problems are to complex, the Gaussian is not able to capture all modes, this leads to blurry images which is\n",
    "a well known problem for VAE generated samples. Furthermore, VAEs minimize the Kullback-Leibler divergence, which is not a well suitable distance measure.\n",
    "\n",
    "<a name=\"myfootnote2\">2</a>: Batch normalization is very important here. Due to the normalization of the gradients, it stabilizes the training.\n",
    "As we will see [later](#sngan_normalization) normalizing the gradients delivered by the discriminator, is crucial.\n",
    "\n",
    "<a name=\"myfootnote3\">3</a>: Using ReLU in the discriminator would lead to sparse gradient (no negative gradient could propagate back).\n",
    "Using LeakyReLU provides better feedback. Also pooling would provide sparse gradients.\n",
    "\n",
    "</p>\n",
    "</details>\n",
    "\n",
    "<a name=\"gan_code\"></a>\n",
    "## Implementation Vanilla GAN\n",
    "Let us start to implement our first GAN in Keras, to gain more insights of the training procedure.\n",
    "So let us first import the libaries we need."
   ]
  },
  {
   "cell_type": "code",
   "execution_count": 1,
   "metadata": {
    "pycharm": {
     "is_executing": false,
     "metadata": false,
     "name": "#%%\n"
    }
   },
   "outputs": [
    {
     "name": "stdout",
     "output_type": "stream",
     "text": [
      "eos access: ✗\n",
      "Python version 3.6.7\n",
      "\n",
      "TensorFlow version 1.13.1\n",
      "Keras version 2.2.4-tf\n"
     ]
    }
   ],
   "source": [
    "import numpy as np\n",
    "import tensorflow as tf\n",
    "from tensorflow import keras\n",
    "from platform import python_version\n",
    "import tutorial as tut\n",
    "\n",
    "print(\"Python version\", python_version())\n",
    "print(\"\\nTensorFlow version\", tf.__version__)\n",
    "print(\"Keras version\", keras.__version__)"
   ]
  },
  {
   "cell_type": "markdown",
   "metadata": {
    "pycharm": {
     "metadata": false,
     "name": "#%% md\n"
    }
   },
   "source": [
    "First of all we have to load our training data.\n",
    "Furthermore, we can have a look on the first 16 images of the CIFAR10 dataset.\n",
    "For the later training of networks it is from big advantage to preprocess our data, because neural networks prfoit from \n",
    "normalize data we rescale the images to [-1,1]."
   ]
  },
  {
   "cell_type": "code",
   "execution_count": 2,
   "metadata": {
    "pycharm": {
     "is_executing": false,
     "metadata": false,
     "name": "#%%\n"
    }
   },
   "outputs": [
    {
     "data": {
      "text/plain": [
       "<Figure size 600x600 with 16 Axes>"
      ]
     },
     "metadata": {},
     "output_type": "display_data"
    }
   ],
   "source": [
    "from matplotlib import pyplot as plt\n",
    "from plotting import plot_images\n",
    "\n",
    "(images, y_train), (x_test, y_test) = tf.keras.datasets.cifar10.load_data()\n",
    "plot_images(images[:16])\n",
    "x_train = 2 * (images / 255. - 0.5)"
   ]
  },
  {
   "cell_type": "markdown",
   "metadata": {
    "pycharm": {
     "metadata": false
    }
   },
   "source": [
    "Now we can design our generator and discriminator network.\n",
    "Let us begin with a straight forward implementation of the generator network, following the DCGAN guidelines.\n",
    "As noise input we sample from a `latent_dim = 64` dimensional latent space."
   ]
  },
  {
   "cell_type": "code",
   "execution_count": 3,
   "metadata": {
    "pycharm": {
     "metadata": false,
     "name": "#%%\n"
    }
   },
   "outputs": [
    {
     "name": "stdout",
     "output_type": "stream",
     "text": [
      "Generator\n",
      "WARNING:tensorflow:From /usr/local/lib/python3.6/dist-packages/tensorflow/python/ops/resource_variable_ops.py:435: colocate_with (from tensorflow.python.framework.ops) is deprecated and will be removed in a future version.\n",
      "Instructions for updating:\n",
      "Colocations handled automatically by placer.\n",
      "_________________________________________________________________\n",
      "Layer (type)                 Output Shape              Param #   \n",
      "=================================================================\n",
      "input_1 (InputLayer)         (None, 64)                0         \n",
      "_________________________________________________________________\n",
      "dense (Dense)                (None, 2048)              133120    \n",
      "_________________________________________________________________\n",
      "reshape (Reshape)            (None, 2, 2, 512)         0         \n",
      "_________________________________________________________________\n",
      "conv2d_transpose (Conv2DTran (None, 4, 4, 512)         6554112   \n",
      "_________________________________________________________________\n",
      "batch_normalization_v1 (Batc (None, 4, 4, 512)         2048      \n",
      "_________________________________________________________________\n",
      "conv2d_transpose_1 (Conv2DTr (None, 8, 8, 256)         3277056   \n",
      "_________________________________________________________________\n",
      "batch_normalization_v1_1 (Ba (None, 8, 8, 256)         1024      \n",
      "_________________________________________________________________\n",
      "conv2d_transpose_2 (Conv2DTr (None, 16, 16, 128)       819328    \n",
      "_________________________________________________________________\n",
      "batch_normalization_v1_2 (Ba (None, 16, 16, 128)       512       \n",
      "_________________________________________________________________\n",
      "conv2d_transpose_3 (Conv2DTr (None, 32, 32, 64)        204864    \n",
      "_________________________________________________________________\n",
      "batch_normalization_v1_3 (Ba (None, 32, 32, 64)        256       \n",
      "_________________________________________________________________\n",
      "conv2d_transpose_4 (Conv2DTr (None, 32, 32, 64)        102464    \n",
      "_________________________________________________________________\n",
      "batch_normalization_v1_4 (Ba (None, 32, 32, 64)        256       \n",
      "_________________________________________________________________\n",
      "conv2d (Conv2D)              (None, 32, 32, 3)         1731      \n",
      "=================================================================\n",
      "Total params: 11,096,771\n",
      "Trainable params: 11,094,723\n",
      "Non-trainable params: 2,048\n",
      "_________________________________________________________________\n",
      "None\n"
     ]
    }
   ],
   "source": [
    "layers = keras.layers\n",
    "\n",
    "print('Generator')\n",
    "latent_dim = 64\n",
    "generator_input = layers.Input(shape=[latent_dim])\n",
    "x = layers.Dense(2 * 2 * 512, activation='relu')(generator_input)\n",
    "x = layers.Reshape([2, 2, 512])(x)\n",
    "x = layers.Conv2DTranspose(512, (5, 5), strides=(2, 2), padding='same', activation='relu')(x)\n",
    "x = layers.BatchNormalization()(x)\n",
    "x = layers.Conv2DTranspose(256, (5, 5), strides=(2, 2), padding='same', activation='relu')(x)\n",
    "x = layers.BatchNormalization()(x)\n",
    "x = layers.Conv2DTranspose(128, (5, 5), strides=(2, 2), padding='same', activation='relu')(x)\n",
    "x = layers.BatchNormalization()(x)\n",
    "x = layers.Conv2DTranspose(64, (5, 5), strides=(2, 2), padding='same', activation='relu')(x)\n",
    "x = layers.BatchNormalization()(x)\n",
    "x = layers.Conv2DTranspose(64, (5, 5), padding='same', activation='relu')(x)\n",
    "x = layers.BatchNormalization()(x)\n",
    "x = layers.Conv2D(3, (3, 3), padding='same', activation='tanh')(x)\n",
    "generator = keras.models.Model(inputs=generator_input, outputs=x)\n",
    "print(generator.summary())"
   ]
  },
  {
   "cell_type": "markdown",
   "metadata": {
    "pycharm": {
     "metadata": false,
     "name": "#%% md\n"
    }
   },
   "source": [
    "As we can see, we build a generator with ~ 10 M parameters, which maps from the latent space `(64,)` to the data space `(32,32,3)`.\n",
    "Notice, that using `tanh` as last activation is important, because we scaled the images to [-1,1].\n"
   ]
  },
  {
   "cell_type": "code",
   "execution_count": 4,
   "metadata": {
    "pycharm": {
     "is_executing": false,
     "metadata": false,
     "name": "#%%\n"
    }
   },
   "outputs": [
    {
     "name": "stdout",
     "output_type": "stream",
     "text": [
      "Discriminator\n",
      "WARNING:tensorflow:From /usr/local/lib/python3.6/dist-packages/tensorflow/python/keras/layers/core.py:143: calling dropout (from tensorflow.python.ops.nn_ops) with keep_prob is deprecated and will be removed in a future version.\n",
      "Instructions for updating:\n",
      "Please use `rate` instead of `keep_prob`. Rate should be set to `rate = 1 - keep_prob`.\n",
      "_________________________________________________________________\n",
      "Layer (type)                 Output Shape              Param #   \n",
      "=================================================================\n",
      "input_2 (InputLayer)         (None, 32, 32, 3)         0         \n",
      "_________________________________________________________________\n",
      "conv2d_1 (Conv2D)            (None, 16, 16, 64)        1792      \n",
      "_________________________________________________________________\n",
      "leaky_re_lu (LeakyReLU)      (None, 16, 16, 64)        0         \n",
      "_________________________________________________________________\n",
      "conv2d_2 (Conv2D)            (None, 8, 8, 128)         131200    \n",
      "_________________________________________________________________\n",
      "leaky_re_lu_1 (LeakyReLU)    (None, 8, 8, 128)         0         \n",
      "_________________________________________________________________\n",
      "conv2d_3 (Conv2D)            (None, 4, 4, 256)         524544    \n",
      "_________________________________________________________________\n",
      "leaky_re_lu_2 (LeakyReLU)    (None, 4, 4, 256)         0         \n",
      "_________________________________________________________________\n",
      "conv2d_4 (Conv2D)            (None, 2, 2, 512)         2097664   \n",
      "_________________________________________________________________\n",
      "leaky_re_lu_3 (LeakyReLU)    (None, 2, 2, 512)         0         \n",
      "_________________________________________________________________\n",
      "flatten (Flatten)            (None, 2048)              0         \n",
      "_________________________________________________________________\n",
      "dropout (Dropout)            (None, 2048)              0         \n",
      "_________________________________________________________________\n",
      "dense_1 (Dense)              (None, 2)                 4098      \n",
      "=================================================================\n",
      "Total params: 2,759,298\n",
      "Trainable params: 2,759,298\n",
      "Non-trainable params: 0\n",
      "_________________________________________________________________\n",
      "None\n"
     ]
    }
   ],
   "source": [
    "print('Discriminator')\n",
    "discriminator_input = layers.Input(shape=[32, 32, 3])\n",
    "x = layers.Conv2D(64, (3, 3), strides=(2, 2), padding='same')(discriminator_input)\n",
    "x = layers.LeakyReLU(0.2)(x)\n",
    "x = layers.Conv2D(128, (4, 4), padding='same', strides=(2, 2))(x)\n",
    "x = layers.LeakyReLU(0.2)(x)\n",
    "x = layers.Conv2D(256, (4, 4), padding='same', strides=(2, 2))(x)\n",
    "x = layers.LeakyReLU(0.2)(x)\n",
    "x = layers.Conv2D(512, (4, 4), padding='same', strides=(2, 2))(x)\n",
    "x = layers.LeakyReLU(0.2)(x)\n",
    "x = layers.Flatten()(x)\n",
    "x = layers.Dropout(0.25)(x)\n",
    "x = layers.Dense(2, activation='softmax', kernel_regularizer=keras.regularizers.l1_l2(0.0004))(x)\n",
    "discriminator = keras.models.Model(inputs=discriminator_input, outputs=x)\n",
    "print(discriminator.summary())\n"
   ]
  },
  {
   "cell_type": "markdown",
   "metadata": {
    "pycharm": {
     "is_executing": false,
     "metadata": false,
     "name": "#%% md\n"
    }
   },
   "source": [
    "Furthermore, we created our discriminator which classifies the input images of shape `(32,32,3)` into `(2,)` classes (fake, real)\n",
    "holding ~2.5 M parameters.\n",
    "\n",
    "Now, we can compile our model by choosing an optimizer and setting the objective."
   ]
  },
  {
   "cell_type": "code",
   "execution_count": 5,
   "metadata": {
    "pycharm": {
     "is_executing": false,
     "metadata": false,
     "name": "#%%\n"
    }
   },
   "outputs": [],
   "source": [
    "d_opt = keras.optimizers.Adam(lr=2e-4, beta_1=0.5, decay=0.0005)\n",
    "discriminator.compile(loss='binary_crossentropy', optimizer=d_opt, metrics=['accuracy'])\n"
   ]
  },
  {
   "cell_type": "markdown",
   "metadata": {
    "pycharm": {
     "metadata": false,
     "name": "#%% md\n"
    }
   },
   "source": [
    "After creating our discriminator model, we have to build and compile the GAN framework by stacking the discriminator on \n",
    "top of the generator.\n"
   ]
  },
  {
   "cell_type": "code",
   "execution_count": 6,
   "metadata": {
    "pycharm": {
     "is_executing": false,
     "metadata": false,
     "name": "#%%\n"
    }
   },
   "outputs": [
    {
     "name": "stdout",
     "output_type": "stream",
     "text": [
      "\n",
      "Generative Adversarial Network\n",
      "_________________________________________________________________\n",
      "Layer (type)                 Output Shape              Param #   \n",
      "=================================================================\n",
      "input_3 (InputLayer)         (None, 64)                0         \n",
      "_________________________________________________________________\n",
      "model (Model)                (None, 32, 32, 3)         11096771  \n",
      "_________________________________________________________________\n",
      "model_1 (Model)              (None, 2)                 2759298   \n",
      "=================================================================\n",
      "Total params: 13,856,069\n",
      "Trainable params: 13,854,021\n",
      "Non-trainable params: 2,048\n",
      "_________________________________________________________________\n",
      "None\n"
     ]
    }
   ],
   "source": [
    "print('\\nGenerative Adversarial Network')\n",
    "gan_input = layers.Input(shape=[latent_dim])\n",
    "gan_output = discriminator(generator(gan_input))\n",
    "GAN = keras.models.Model(gan_input, gan_output)\n",
    "print(GAN.summary())\n"
   ]
  },
  {
   "cell_type": "markdown",
   "metadata": {
    "pycharm": {
     "metadata": false,
     "name": "#%% md\n"
    }
   },
   "source": [
    "After building the framework, we have to compile it.\n",
    "But before, we have to **freeze the weights of the discriminator**. (Remember that for training the generator we have to \n",
    "fix the discriminator weigths, because we want to fool the discriminator by drawing nice images, not by making our discriminator \n",
    "a bad classifier).\n"
   ]
  },
  {
   "cell_type": "code",
   "execution_count": 7,
   "metadata": {
    "pycharm": {
     "is_executing": false,
     "metadata": false,
     "name": "#%%\n"
    }
   },
   "outputs": [],
   "source": [
    "def make_trainable(model, trainable):\n",
    "    \"\"\" Function to freeze / unfreeze a model \"\"\"\n",
    "    model.trainable = trainable\n",
    "    for l in model.layers:\n",
    "        l.trainable = trainable\n",
    "\n",
    "g_opt = keras.optimizers.Adam(lr=2e-4, beta_1=0.5, decay=0.0005)\n",
    "make_trainable(discriminator, False)  # freezes the discriminator when training the GAN\n",
    "GAN.compile(loss='binary_crossentropy', optimizer=g_opt)\n"
   ]
  },
  {
   "cell_type": "markdown",
   "metadata": {
    "pycharm": {
     "metadata": false,
     "name": "#%% md\n"
    }
   },
   "source": [
    "Note that after we compiled a model, calling `make_trainable` will have no effect untill compiling the model again.\n",
    "\n",
    "We now can design the training loop of our framework:"
   ]
  },
  {
   "cell_type": "code",
   "execution_count": 8,
   "metadata": {
    "pycharm": {
     "is_executing": false,
     "metadata": false,
     "name": "#%%\n"
    }
   },
   "outputs": [],
   "source": [
    "def train_gan(epochs=0, batch_size=64):\n",
    "    for epoch in range(epochs):\n",
    "    \n",
    "        # Plot some fake images\n",
    "        noise = np.random.randn(batch_size, latent_dim)\n",
    "        generated_images = 255. * (generator.predict(noise) / 2. + 0.5)\n",
    "        plot_images(generated_images[:16])  # plot image\n",
    "    \n",
    "        perm = np.random.choice(50000, size=50000, replace='False')\n",
    "    \n",
    "        for i in range(50000//batch_size):\n",
    "    \n",
    "            # Create a mini-batch of data (X: real images + fake images, y: corresponding class vectors)\n",
    "            image_batch = x_train[perm[i*batch_size:(i+1)*batch_size], :, :, :]    # real images\n",
    "            noise_gen = np.random.randn(batch_size, latent_dim)\n",
    "            generated_images = generator.predict(noise_gen)                        # generated images\n",
    "            X = np.concatenate((image_batch, generated_images))\n",
    "            y = np.zeros([2*batch_size, 2])   # class vector\n",
    "            y[0:batch_size, 1] = 1\n",
    "            y[batch_size:, 0] = 1\n",
    "    \n",
    "            # Train the discriminator on the mini-batch\n",
    "            d_loss, d_acc = discriminator.train_on_batch(X, y)\n",
    "            losses[\"d\"].append(d_loss)\n",
    "            discriminator_acc.append(d_acc)\n",
    "    \n",
    "            # Create a mini-batch of data (X: noise, y: class vectors pretending that these produce real images)\n",
    "            noise_tr = np.random.randn(batch_size, latent_dim)\n",
    "            y2 = np.zeros([batch_size, 2])\n",
    "            y2[:, 1] = 1  # Fooling: We need to take the label 1, (real) because Keras will minimize the cross entropy in our model,\n",
    "                          # Switching the label to real here, will let us maximize as required . \n",
    "\n",
    "            # Train the generator on the mini-batch\n",
    "            g_loss = GAN.train_on_batch(noise_tr, y2)\n",
    "            losses[\"g\"].append(g_loss)\n",
    "            print(discriminator_acc[-1])\n"
   ]
  },
  {
   "cell_type": "markdown",
   "metadata": {
    "pycharm": {
     "metadata": false,
     "name": "#%% md\n"
    }
   },
   "source": [
    "We now just could train our network by calling `train_gan(epochs=100)`.\n",
    "\n",
    "###### WARNING:tensorflow:Discrepancy between trainable weights and collected trainable weights, did you set `model.trainable` without calling `model.compile` after ?\n",
    "-> This warning is harmless and just occurs, because we compiled the discriminator and later froze its weights for the generator training."
   ]
  },
  {
   "cell_type": "code",
   "execution_count": null,
   "metadata": {
    "pycharm": {
     "is_executing": true,
     "metadata": false,
     "name": "#%%\n"
    }
   },
   "outputs": [],
   "source": [
    "gan_dir = tut.get_file(\"gan/models/vanilla_GAN/generator.h5\")\n",
    "pretrained_generator = keras.models.load_model(gan_dir)\n",
    "noise = np.random.randn(16, 64)\n",
    "generated_images = 255. * (pretrained_generator.predict(noise) / 2. + 0.5)\n",
    "plot_images(generated_images)  # plot images\n"
   ]
  },
  {
   "cell_type": "markdown",
   "metadata": {
    "pycharm": {
     "metadata": false,
     "name": "#%% md\n"
    }
   },
   "source": [
    "### Results\n",
    "\n",
    "As we can see the results are very noisy and the generator seems to output really similar image samples of relatively bad quality.\n",
    "In order not to judge too quickly, you should remember that generating images is a quiet complicated task. 32x32x3 = 3072 dimensional!\n",
    "The dataset holds 10 classes, with complicated structures. [MNIST](http://yann.lecun.com/exdb/mnist/) is comparatively much much easier.\n",
    "By randomly sampling from noise, you will never be able to generate a sample looking like any of the images, it will just be noise!\n",
    "\n",
    "Still, we can see that our model is only able to produce rough details and local regions of smooth colors, capturing only a single mode.\n",
    "\n",
    "\n",
    "Samples during training            |  Loss\n",
    ":-------------------------:|:-------------------------:\n",
    "<img src=\"https://cernbox.cern.ch/index.php/s/xDYiSmbleT3rip4/download?path=%2Fgan%2Fmodels%2Fvanilla_GAN&files=cifar10_vanilla.gif\" width=\"400\"/>  |  <img src=\"https://cernbox.cern.ch/index.php/s/xDYiSmbleT3rip4/download?path=%2Fgan%2Fmodels%2Fvanilla_GAN&files=loss.png\" width=\"400\"/>\n",
    "\n",
    "\n",
    "When we have a look on the loss we have no visible of convergence or anything which could tell us about successful training.\n",
    "We can just see that discriminator an generator ware on a same scale.\n",
    "\n",
    "\n",
    "For increasing the generation performance we need to understand what's wrong with the vanilla GAN training.\n",
    "\n",
    "### Problems training GANs\n",
    "\n",
    "<details><summary> <button type=\"button\">Display detailed text</button> </summary>\n",
    "<p>\n",
    "\n",
    "\n",
    "In general, training GANs is a very challenging task and needs a lot of fine tuning compared to supervised training of deep networks.\n",
    "The reason for this is, that we do not have a stationary minimization problem anymore, but two networks playing a _minmax game_.\n",
    "The updates of the the generator will highly affect the next step of the discriminator update and the other way round.\n",
    "Beside this:\n",
    "- Non-stationary minimization problem. Do not use optimizers with high momentum rates\n",
    "- Mode collapsing\n",
    "- Vanishing gradients\n",
    "- Meaningless loss metric\n",
    "\n",
    "are further issues of our vanilla GAN.\n",
    "\n",
    "##### Mode collapsing - \"Helvetica Scenario\"\n",
    "After the training, the generator outputs samples from a restricted phase space only.\n",
    "This is heavily connected to the control of the discriminator gradients. When the discriminator covers only a part of the modes in data,\n",
    "the feedback will only be informative for this modes. This heavily drives the generator to collapse towards this mode,\n",
    "which forces the discriminator to focus even more on this specific mode.\n",
    "\n",
    "<img src=\"https://cernbox.cern.ch/index.php/s/xDYiSmbleT3rip4/download?path=%2Fgan%2Fimages&files=mnist_mode_collapse.png\" alt=\"drawing\" width=\"487\"/>\n",
    "\n",
    "To solve this one can try to use:\n",
    "- Batch history (add in the present batch of generated samples, samples generated by the model in earlier iterations)\n",
    "- Add noise into the framework\n",
    "- Label smoothing or switching (see [non saturating GAN](#ns_gan))\n",
    "- Conditioning of GANs - change to semi supervised training by adding label information to generator and/or discriminator\n",
    "    - C-GAN : condition the generator to produce specific samples, [Mirza, Osindero](https://arxiv.org/abs/1411.1784)\n",
    "    - AC-GAN: let the discriminator learn a conditional probability over the classes, [Odena, Olah, Shlens](https://arxiv.org/abs/1610.09585)\n",
    "    \n",
    "\n",
    "##### Vanishing gradients\n",
    "For training a reasonable generator, the feedback of the discriminator is crucial.\n",
    "Therefore, one could think that training the discriminator more often than the generator could improve the training,\n",
    "because the feedback would be much more precise.\n",
    "The problem is, that for this scenario the feedback of the discriminator is almost zero.\n",
    "![vanishing gradients](https://cernbox.cern.ch/index.php/s/xDYiSmbleT3rip4/download?path=%2Fgan%2Fimages&files=vanishing_gradients.gif)\n",
    "<div style=\"text-align: right\"> image credit: Emanuele Sansone </div>\n",
    "When calculating the gradient for the generator update provided by a converged discriminator, one obtains vanishing feedback:\n",
    " \n",
    "$\\lim_{D \\rightarrow 0} \\frac{\\partial{}}{\\partial{\\theta}} \\log(1-D(G_{\\theta}(z))) = \\lim_{f \\rightarrow -\\infty} \\frac{\\partial{}}{\\partial{\\theta}}\\log\\left( 1- \\frac{1}{1+e^{-f_{\\theta}}} \\right) \\approx 0$\n",
    "\n",
    "Hence, having a strong discriminator will hinder the training, this is very bad!\n",
    "In order to prevent that, we used regularization (dropout + l1 + l2)  in the discriminator.\n",
    "\n",
    "#### Meaningless Loss\n",
    "By inspecting the loss of the discriminator and generator, we can see that they do not correlate with the image quality.\n",
    "(the discriminator is not trained to convergence). Hence, it is quiet hard to say if our framework reached a stable equilibrium.\n",
    "This is really bad for monitoring the training.\n",
    "</p>\n",
    "</details>\n",
    "\n",
    "<a name=\"wgan\"></a>\n",
    "## Wasserstein GANs\n",
    "\n",
    "<details><summary> <button type=\"button\">Display detailed text</button> </summary>\n",
    "<p>\n",
    "\n",
    "To overcome the issue of the meaningless metric and vanishing gradients.\n",
    "[Arjovsky, Chintala and Bottou](https://arxiv.org/abs/1701.07875) proposed to used the Wasserstein-1 as metric in the discriminator.\n",
    "Using the Wasserstein distance as metric has several advantages in comparison to the old minmax loss.\n",
    "The crucial feature of the Wasserstein distance is the meaningful distance measure even when distributions are disjunct.\n",
    "But before coming to the crucial difference, let us try to understand the Wasserstein distance.\n",
    "\n",
    "### Wasserstein or Earth Mover's distance\n",
    "Wasserstein-1 or _earth mover's distance_ describes the **minimal cost** to transform a distribution $P_{\\theta}$ into another disitribution $P_{r}$ and vice versa.\n",
    "The mathematical defintion is as follows:\n",
    "\n",
    "$\\mathcal{D}_W(P_r|| P_\\theta)= \\inf_{\\gamma \\in \\Pi(P_r, P_\\theta)} \\mathbb{E}_{(x,y) \\sim \\gamma}[||x-y||]$\n",
    "\n",
    "The Wasserstein distance can be understood using a very figurative example.\n",
    "Let us assume, we have two heaps of earth in the garden $P_{r}, P_{\\theta}$ and would like to know, what is the minimum ${\\inf}$ *work* we need to transform one heap of earth into the other one.\n",
    "In other words, how many shovels of earth $\\mathbb{E}_{(x,y)}$ we have to transport which distance $||x-y||$. (Work: mass * distance)\n",
    "The optimal transport plan $\\inf_{\\gamma \\in \\Pi(P_r, P_\\theta)}$ for this transformation, is given by the Wasserstein distance. \n",
    "\n",
    "<img src=\"https://cernbox.cern.ch/index.php/s/xDYiSmbleT3rip4/download?path=%2Fgan%2Fimages&files=earth_movers_distance.png\" alt=\"drawing\" width=\"600\"/>\n",
    "\n",
    "<a name=\"wgan_theory\"></a>\n",
    "### Improved training of GANs\n",
    "When interpreting the training of GANs as divergence minimization, the training of vanilla GANs is similar (assuming an optimal discriminator) to minimize the *Jensen-Shannon divergence* (JS divergence).\n",
    "The JS divergence do not provided a meaningful measure for disjoint distributions (no overlap).\n",
    "In contrast, the Wasserstein distance does (in the figurative example both heaps of earth are disjoint).\n",
    "Especially in the beginning of the GAN training, both distributions are disjoint. Because the discriminator can very easily discriminate perfectly between real and fake images.\n",
    "Furthermore, because of the easy formulation of the distance measure (mass * distance) we can expect smooth gradients. \n",
    "\n",
    "### Approximation of the Wasserstein distance using the discriminator (critic)\n",
    "Using the Kantorovich-Rubinstein duality we are able to construct the Wasserstein distance ourselves and the loss becomes:\n",
    "\n",
    "$\\mathcal{L}_{WGAN} = \\min_{ D_w \\in Lip_1} \\mathbb{E}_{x \\sim P_r}[D_w(x)] - \\mathbb{E}_{\\tilde{x} \\sim P_\\theta}{[D_w(\\tilde{x})]}$ ,\n",
    "\n",
    "where $D_w(x)$ is the discriminator network (in the WGAN setup called *critic* because the network is not trained to discriminate anymore).\n",
    "Basically the distance/loss $\\mathcal{L}_{WGAN}$ is formed, by subtracting the output of the critic applied on the fake samples from the critic applied on the real samples. \n",
    "It is important, that  $D \\in Lip_1$ denotes, that the function the critic network should approximate is a 1-Lipschitz function.\n",
    "(A 1-Lipschitz function is a function, which has a slope $m \\leq 1$ everywhere.)\n",
    "Therefore, the critic network we used for approximation has to carry this Lipschitz constrain<sup>[4](#myfootnote4)</sup> also.\n",
    "For implementing Wasserstein GANs, the are 2 possible methods to enforce the Lipschitz constrain:\n",
    "- Use weight clipping, which is less preferred<sup>[5](#myfootnote4)\n",
    "- Use the Gradient penalty\n",
    "\n",
    "[Gulrajani et. al.](https://arxiv.org/abs/1704.00028) proposed the **Gradient penalty** to construct the Lipschitz constrain by extending the loss $\\mathcal{L}_{WGAN}$ with:\n",
    "\n",
    "$\\mathcal{L}_{GP} = \\lambda\\; \\mathbb{E}_{\\hat{u} \\sim P_{\\hat{u}}}[(||\\nabla_{\\hat{u}}D_w(\\hat{u})||_2-1)^2]$\n",
    "\n",
    "where $\\lambda$ is a hyperparameter to scale the loss and $\\hat{u}=\\epsilon x + (1-\\epsilon)\\tilde{x}\\;,0 \\leq \\epsilon \\leq 1$\n",
    "is randomly sampled along straight lines between pairs of data and fake samples.\n",
    "In simple words, the gradient in the discriminator is forced to have norm $1$<sup>[6](#myfootnote6)</sup> everywhere between the distribution of real and fake samples.\n",
    "Implementing this \"objective\" makes explicitly clear, that the WGAN will not suffer from vanishing gradients.\n",
    "\n",
    "This are great news, now we can and **should train the critic network to convergence**, which will give us **non vanishing \n",
    "and precise** feedback.\n",
    "\n",
    "--- Footnotes\n",
    "\n",
    "<a name=\"myfootnote4\">4</a>: Easy interpretation: We need a constraint to train the discriminator to convergence, otherwise\n",
    " the discriminator could focus on one feature which differs between real and fake samples and won't converge\n",
    "\n",
    "<a name=\"myfootnote5\">5</a>: Weight clamping will heavily reduce the capacity of the discriminator which is unfavourable.\n",
    "\n",
    "<a name=\"myfootnote6\">6</a>: One could complain that by constraining the critic network to provide gradients with exactly norm $1$\n",
    "is not exactly the same as required by the Lipschitz constraint, which is right sided only $m \\leq 1$. It turns out that\n",
    "the both sided penalty, performs slightly better than the right sided gradient penalty. To understand this issue, one have to understand\n",
    "GAN training more in a way of gradient [control/normalization](#sngan_normalization).\n",
    "</p>\n",
    "</details>\n",
    "\n",
    "<a name=\"wgan_code\"></a>\n",
    "### Implementation of improved Wasserstein GANs - WGAN-GP (conditioned)\n",
    "After the short introduction into WGANs, let us try to implement our first own Wasserstein GAN using tf.contrib.GAN.\n",
    "This high-level library will make our life much easier.\n",
    "\n",
    "Furthermore, we try to condition our generator to produce samples from a specific class (eg. dog), following the [C-GAN approach](https://arxiv.org/abs/1411.1784)\n",
    "\n"
   ]
  },
  {
   "cell_type": "code",
   "execution_count": null,
   "metadata": {
    "pycharm": {
     "is_executing": false,
     "metadata": false,
     "name": "#%%\n"
    }
   },
   "outputs": [
    {
     "name": "stdout",
     "output_type": "stream",
     "text": [
      "TensorFlow version 1.13.1\n"
     ]
    }
   ],
   "source": [
    "import tensorflow as tf\n",
    "import numpy as np\n",
    "from plotting import plot_images\n",
    "layers = tf.layers\n",
    "print(\"TensorFlow version\", tf.__version__)\n"
   ]
  },
  {
   "cell_type": "markdown",
   "metadata": {
    "pycharm": {
     "metadata": false,
     "name": "#%% md\n"
    }
   },
   "source": [
    "Let us begin to build our data pipeline, which will provide us with new data samples during the training.\n",
    "First we need to define our data generator.\n",
    "The data generator should output real samples (input for the discriminator) and noise (input for the generator)\n",
    "The variable LATENT_DIM defines the dimensionality of the latent space of the generator. (The noise distribution we sample from).\n",
    "\n",
    "Additionally, we will provide our generator and discriminator a label, to condition and stabilize our training process.\n",
    "These type of GANs are called [Conditional GANs](https://arxiv.org/abs/1610.09585) or supervised."
   ]
  },
  {
   "cell_type": "code",
   "execution_count": null,
   "metadata": {
    "pycharm": {
     "is_executing": false,
     "metadata": false,
     "name": "#%%\n"
    }
   },
   "outputs": [],
   "source": [
    "def data_generator(LATENT_DIM):\n",
    "    while True:\n",
    "        (x_train, labels), (x_test, y_test) = tf.keras.datasets.cifar10.load_data()\n",
    "        nsamples = x_train.shape[0]\n",
    "        images = 2 * (x_train / 255. - 0.5)\n",
    "        images = images.astype(np.float32)\n",
    "        noise = np.random.randn(nsamples, LATENT_DIM).reshape(nsamples, LATENT_DIM)\n",
    "        idx = np.random.permutation(nsamples)\n",
    "        noise = noise[idx]\n",
    "        images = images[idx]\n",
    "        labels = labels[idx]\n",
    "        for i in range(nsamples):\n",
    "            yield ((noise[i], labels[i]), (images[i]))"
   ]
  },
  {
   "cell_type": "markdown",
   "metadata": {
    "pycharm": {
     "metadata": false
    }
   },
   "source": [
    "Let us now check if our generator is working"
   ]
  },
  {
   "cell_type": "code",
   "execution_count": null,
   "metadata": {
    "pycharm": {
     "is_executing": false,
     "metadata": false,
     "name": "#%%\n"
    }
   },
   "outputs": [
    {
     "data": {
      "image/png": "[encoded data removed]",
      "text/plain": [
       "<Figure size 432x432 with 16 Axes>"
      ]
     },
     "metadata": {
      "needs_background": "light"
     },
     "output_type": "display_data"
    }
   ],
   "source": [
    "import itertools\n",
    "generator_output = np.array(list(itertools.islice(data_generator(64), 16)))\n",
    "test_images = 255. * (generator_output[:,1] / 2. + 0.5)\n",
    "plot_images(test_images[:16])\n"
   ]
  },
  {
   "cell_type": "markdown",
   "metadata": {
    "pycharm": {
     "metadata": false,
     "name": "#%% md\n"
    }
   },
   "source": [
    "For training GANs we need to further define our generator and discriminator network.\n",
    "We start by defining our generator network, which should map from our noise + label space into the space of out images \n",
    "`(LATENT_DIM + LABEL --> IMAGE_DIM)`.\n",
    "Adding the label to the input of the gernator and discriminator, should enforce the generator to produce samples from the according class."
   ]
  },
  {
   "cell_type": "code",
   "execution_count": null,
   "metadata": {
    "pycharm": {
     "is_executing": false,
     "metadata": false,
     "name": "#%%\n"
    }
   },
   "outputs": [],
   "source": [
    "LATENT_DIM = 64  # dimension of the latent space\n",
    "\n",
    "def generator_fn(inputs, latent_dim=LATENT_DIM):\n",
    "    x, labels = inputs\n",
    "    x = tf.concat([x, labels], axis=-1)\n",
    "    x = layers.Dense(4 * 4 * 256, activation='relu', input_shape=(latent_dim + 1,))(x)  #\n",
    "    x = tf.reshape(x, shape=[BATCH_SIZE, 4, 4, 256])\n",
    "    x = layers.Conv2DTranspose(256, (4, 4), strides=(2, 2), padding='same', activation='relu')(x)\n",
    "    x = layers.BatchNormalization()(x)\n",
    "    x = layers.Conv2DTranspose(128, (4, 4), strides=(2, 2), padding='same', activation='relu')(x)\n",
    "    x = layers.BatchNormalization()(x)\n",
    "    x = layers.Conv2DTranspose(64, (4, 4), strides=(2, 2), padding='same', activation='relu')(x)\n",
    "    x = layers.BatchNormalization()(x)\n",
    "    x = layers.Conv2D(3, (3, 3), padding='same', activation='tanh')(x)\n",
    "    return x"
   ]
  },
  {
   "cell_type": "markdown",
   "metadata": {
    "pycharm": {
     "metadata": false
    }
   },
   "source": [
    "After defining our generator network we need now to implement our discriminator.\n",
    "The task of the discriminator is to measure the similarity between the fake images (output of the generator) and the real images.\n",
    "So, the network maps from the image space into a 1D space where we can measure the 'distance' between the distributions \n",
    "of the real and generated images `(IMAGE_DIM + LABEL --> 1)`.\n",
    "Also here we add the class label to the discriminator."
   ]
  },
  {
   "cell_type": "code",
   "execution_count": null,
   "metadata": {
    "pycharm": {
     "is_executing": false,
     "metadata": false,
     "name": "#%%\n"
    }
   },
   "outputs": [],
   "source": [
    "def discriminator_fn(x, gen_in, drop_rate=0.25):\n",
    "    \"\"\" Discriminator network \"\"\"\n",
    "    noise, labels = gen_in\n",
    "    x = layers.Conv2D(64, (3, 3), padding='same', input_shape=(32, 32, 3))(x)\n",
    "    x = tf.nn.leaky_relu(x, 0.2)\n",
    "    labels = tf.tile(tf.reshape(labels, [BATCH_SIZE, 1, 1, 1]), [1, 32, 32, 1])\n",
    "    x = tf.concat([x, labels], axis=-1)\n",
    "    x = tf.contrib.layers.layer_norm(x)\n",
    "    x = layers.Conv2D(64, (4, 4), padding='same', strides=(2, 2))(x)\n",
    "    x = tf.contrib.layers.layer_norm(x)\n",
    "    x = tf.nn.leaky_relu(x, 0.2)\n",
    "    x = layers.Conv2D(128, (3, 3), padding='same')(x)\n",
    "    x = tf.contrib.layers.layer_norm(x)\n",
    "    x = tf.nn.leaky_relu(x, 0.2)\n",
    "    x = layers.Conv2D(128, (4, 4), padding='same', strides=(2, 2))(x)\n",
    "    x = tf.contrib.layers.layer_norm(x)\n",
    "    x = tf.nn.leaky_relu(x, 0.2)\n",
    "    x = layers.Conv2D(256, (3, 3), padding='same')(x)\n",
    "    x = tf.contrib.layers.layer_norm(x)\n",
    "    x = tf.nn.leaky_relu(x, 0.2)\n",
    "    x = layers.Conv2D(256, (4, 4), padding='same', strides=(2, 2))(x)\n",
    "    x = tf.contrib.layers.layer_norm(x)\n",
    "    x = tf.nn.leaky_relu(x, 0.2)\n",
    "    x = layers.Conv2D(512, (3, 3), padding='same')(x)\n",
    "    x = tf.nn.leaky_relu(x, 0.2)\n",
    "    x = layers.Flatten()(x)\n",
    "    x = layers.Dense(1)(x)\n",
    "    return x"
   ]
  },
  {
   "cell_type": "markdown",
   "metadata": {
    "pycharm": {
     "metadata": false,
     "name": "#%% md\n"
    }
   },
   "source": [
    "\n",
    "Note that in WGANs we can not make use of batch normalization in the critic, because the gradient penalty is calculated between sample pairs.\n",
    "Therefore, [layer normalization](https://arxiv.org/abs/1607.06450) is a great alternative for normalization in the critic.\n",
    "\n",
    "So let us use the [Gradient Penalty](https://arxiv.org/abs/1704.00028):\n",
    "By penalizing the gradient to be 1, we enforce the lipschitz constraint needed to construct Wasserstein using the\n",
    "[Kantorovich-Rubinstein duality](https://cedricvillani.org/wp-content/uploads/2012/08/preprint-1.pdf)\n",
    "GP is the hyperparameter to weight the strength of the Lipschitz constrain. (higher GP --> stronger enforcing)\n",
    "We can make use of the preliminary implemented `wasserstein_loss` which evaluates $\\mathcal{L}_{WGAN}$, **without** enforcing a Lipschitz constrain.\n",
    "For this reason, we have to add the gradient penalty to the loss.\n"
   ]
  },
  {
   "cell_type": "code",
   "execution_count": null,
   "metadata": {
    "pycharm": {
     "is_executing": false,
     "metadata": false,
     "name": "#%%\n"
    }
   },
   "outputs": [],
   "source": [
    "def discriminator_loss(model, add_summaries=True):\n",
    "\n",
    "    loss = tf.contrib.gan.losses.wasserstein_discriminator_loss(model, add_summaries=add_summaries)\n",
    "    gp_loss = GP * tf.contrib.gan.losses.wasserstein_gradient_penalty(model, epsilon=1e-10, one_sided=True, add_summaries=add_summaries)\n",
    "    loss += gp_loss\n",
    "\n",
    "    if add_summaries:\n",
    "        tf.summary.scalar('discriminator_loss', loss)\n",
    "\n",
    "    return loss"
   ]
  },
  {
   "cell_type": "markdown",
   "metadata": {
    "pycharm": {
     "metadata": false,
     "name": "#%% md\n"
    }
   },
   "source": [
    "After defining our objective, we can choose our training parameters"
   ]
  },
  {
   "cell_type": "code",
   "execution_count": null,
   "metadata": {
    "pycharm": {
     "is_executing": false,
     "metadata": false,
     "name": "#%%\n"
    }
   },
   "outputs": [],
   "source": [
    "BATCH_SIZE = 32   # number of samples fed into the framework in each iteration\n",
    "GEN_LR = 0.0002   # learning rate of the generator\n",
    "DIS_LR = 0.0002   # learning rate of the discriminator\n",
    "GP = 10           # factor to scale the gradient penalty (higher means larger enforcing the Lipschitz constrain)\n",
    "N_CRIT = 5        # number of critic iterations per generator iterations."
   ]
  },
  {
   "cell_type": "markdown",
   "metadata": {
    "pycharm": {
     "metadata": false,
     "name": "#%% md\n"
    }
   },
   "source": [
    "Now we can very easily implement our framework as estimator using tf.gan, this will heavily simplify our training procedure.\n",
    "It is important to realize that we now train the critic `N_CRIT = 5` times, before updating the generator `1` time.\n",
    "This allows us to stabilize the training procedure."
   ]
  },
  {
   "cell_type": "code",
   "execution_count": null,
   "metadata": {
    "pycharm": {
     "is_executing": false,
     "metadata": false,
     "name": "#%%\n"
    }
   },
   "outputs": [
    {
     "name": "stdout",
     "output_type": "stream",
     "text": [
      "downloading gan/models/WGAN_GP from CERNBox\n"
     ]
    }
   ],
   "source": [
    "wgan_dir = tut.get_file(\"gan/models/WGAN_GP\")\n",
    "\n",
    "gan_estimator = tfgan.estimator.GANEstimator(\n",
    "    wgan_dir,\n",
    "    generator_fn=generator_fn,\n",
    "    discriminator_fn=discriminator_fn,\n",
    "    generator_loss_fn=tfgan.losses.wasserstein_generator_loss,\n",
    "    discriminator_loss_fn=discriminator_loss,\n",
    "    generator_optimizer=tf.train.AdamOptimizer(GEN_LR, 0.5),\n",
    "    discriminator_optimizer=tf.train.AdamOptimizer(DIS_LR, 0.5),\n",
    "    get_hooks_fn=tfgan.get_sequential_train_hooks(tfgan.GANTrainSteps(1, N_CRIT)),\n",
    "    config=tf.estimator.RunConfig(save_summary_steps=10, keep_checkpoint_max=1, save_checkpoints_steps=200),\n",
    "    use_loss_summaries=True)"
   ]
  },
  {
   "cell_type": "markdown",
   "metadata": {
    "pycharm": {
     "metadata": false
    }
   },
   "source": [
    "To train our estimator we can create a TensorflowDataset out of our data generator and design a function which outputs us\n",
    "batches of our dataset."
   ]
  },
  {
   "cell_type": "code",
   "execution_count": null,
   "metadata": {
    "pycharm": {
     "metadata": false,
     "name": "#%%\n"
    }
   },
   "outputs": [],
   "source": [
    "def batched_dataset(BATCH_SIZE, LATENT_DIM, generator_fn):\n",
    "    Dataset = tf.data.Dataset.from_generator(\n",
    "        lambda: generator_fn(LATENT_DIM), output_types=((tf.float32, tf.float32), (tf.float32)),\n",
    "        output_shapes=((tf.TensorShape((LATENT_DIM,)), tf.TensorShape((1,))), (tf.TensorShape((32, 32, 3)))))\n",
    "    return Dataset.batch(BATCH_SIZE)"
   ]
  },
  {
   "cell_type": "markdown",
   "metadata": {
    "pycharm": {
     "metadata": false
    }
   },
   "source": [
    "Finally, let us train our framework using our gan_estimator and our data_pipeline.\n",
    "\n",
    "*We skip the training here and import a pretrained estimator*"
   ]
  },
  {
   "cell_type": "code",
   "execution_count": null,
   "metadata": {
    "pycharm": {
     "is_executing": false,
     "metadata": false,
     "name": "#%%\n"
    }
   },
   "outputs": [],
   "source": [
    "gan_estimator.train(lambda: batched_dataset(BATCH_SIZE, LATENT_DIM, generator), max_steps=1000)"
   ]
  },
  {
   "cell_type": "markdown",
   "metadata": {
    "pycharm": {
     "metadata": false,
     "name": "#%% md\n"
    }
   },
   "source": [
    "\n",
    "To test the conditioning of the labels we can just build a sorted generator, and generate samples.\n"
   ]
  },
  {
   "cell_type": "code",
   "execution_count": null,
   "metadata": {
    "pycharm": {
     "metadata": false,
     "name": "#%%\n"
    }
   },
   "outputs": [],
   "source": [
    "from plotting import plot_cond_images\n",
    "\n",
    "def sorted_generator(LATENT_DIM):\n",
    "    while True:\n",
    "        nsamples = 50000\n",
    "        (x_train, y_train), (x_test, y_test) = tf.keras.datasets.cifar10.load_data()\n",
    "        labels = y_train\n",
    "        nsamples = x_train.shape[0]\n",
    "        images = 2 * (x_train / 255. - 0.5)\n",
    "        images = images.astype(np.float32)\n",
    "        noise = np.random.randn(nsamples, LATENT_DIM).reshape(nsamples, LATENT_DIM)\n",
    "        labels = np.expand_dims(np.tile(np.arange(10), 5000), axis=-1)\n",
    "        for i in range(nsamples):\n",
    "            yield ((noise[i], labels[i]), (images[i]))\n",
    "\n",
    "result = gan_estimator.predict(lambda: batched_dataset(BATCH_SIZE, LATENT_DIM, sorted_generator))\n",
    "images = []\n",
    "for i, image in zip(range(30), result):\n",
    "    images.append(255 * (image / 2. + 0.5))\n",
    "plot_cond_images(images)\n"
   ]
  },
  {
   "cell_type": "markdown",
   "metadata": {
    "pycharm": {
     "metadata": false,
     "name": "#%% md\n"
    }
   },
   "source": [
    "<a name=\"wgan_results\"></a>\n",
    "\n",
    "### Results\n",
    "We now can have a look on the improvement of generated samples during the training and inspect the losses of the WGAN. The training took around 12h on a Nvidia 1080 GTX and was trained for 100k generator iterations.\n",
    "\n",
    "As we can see, the _gradient penalty_ is converging towards zero! This are great news, that means our critic is able to give a good estimate of the Wasserstein distance.\n",
    "\n",
    "##### Gradient Penalty Loss \n",
    "<img src=\"https://cernbox.cern.ch/index.php/s/xDYiSmbleT3rip4/download?path=%2Fgan%2Fmodels%2FWGAN_GP&files=GP_loss.svg\" alt=\"Gradient penalty * 10\" width=\"800\"/>\n",
    "\n",
    "If we look at the _critic loss_ we can see a convergence towards 0. (Note that due to our setup the critic gives a negative estimate of Wasserstein-1).\n",
    "These are really great news, because now we monitor the GAN training.\n",
    "Hence, we have an convergence of the Wasserstein metric we can expect good results.\n",
    "\n",
    "##### Critic Loss\n",
    "<img src=\"https://cernbox.cern.ch/index.php/s/xDYiSmbleT3rip4/download?path=%2Fgan%2Fmodels%2FWGAN_GP&files=critic_loss.svg\" alt=\"critic loss\" width=\"800\"/>\n",
    "\n",
    "So let's have a look on the final samples.\n",
    "\n",
    "\n",
    "![WGAN_GP samples](https://cernbox.cern.ch/index.php/s/xDYiSmbleT3rip4/download?path=%2Fgan%2Fmodels%2FWGAN_GP&files=cond_WGAN.gif)\n",
    "\n",
    "These samples look much better, than the ones obtained using the vanilla approach.\n",
    "Even for this relatively simple generator and discriminator model, we can clearly identify in the generated samples features belonging to the according class label.\n",
    "Congratulations we succesfully trained our first Wasserstein GAN!\n",
    "\n",
    "\n",
    "<a name=\"sngan\"></a>\n",
    "## Spectral Normalization for Generative Adversarial Networks - SN-GANs\n",
    "\n",
    "<details><summary> <button type=\"button\">Display detailed text</button> </summary>\n",
    "<p>\n",
    "\n",
    "<a name=\"sngan_normalization\"></a>\n",
    "### Gradient Penalty in terms of normalization \n",
    "To understand why SN-GANs are working, one have to interpret the gradient penalty in a little bit different way.\n",
    "The *gradient penalty* was introduced to estimate the Wasserstein distance between the distribution\n",
    "of real and fake samples using the _critic_ network. That was desirable when interpreting GAN training in terms of divergence minimization,\n",
    "because the Wasserstein distance is a much more suitable distance measure for disjoint distributions the the JS-divergence.\n",
    "Another way to review the gradient penalty is in a way somehow to normalization/ regularization.\n",
    "Remember, that for training vanilla GANs, using regularization and normalization (noise, regularizer, batch normalization) was crucial\n",
    "for obtaining reasonable results.\n",
    "\n",
    "<a name=\"ns_gan\"></a>\n",
    "To overcome the issue of *vanishing gradients* already in [Goodfellow et al.](https://arxiv.org/abs/1406.2661) an alternative\n",
    "loss was proposed, which is known as _label switching_ (because for implementation you just have to switch the labels of true and fakes).\n",
    "\n",
    "$ \\mathcal{L}_{NS, Gen} =  -\\mathbb{E}_{\\mathbf{z} \\sim p_z(\\mathbf{z})} [log(D(G_{\\theta}(\\mathbf{z})))]$\n",
    "\n",
    "The gradients of the discriminator do not vanish anymore, but can provide very instable updates. [Arjovsky and Bottou](https://arxiv.org/abs/1701.04862)\n",
    "showed, that the provided gradients for a noisy discriminator follows a cauchy distribution (infinite expectation and variance).\n",
    "In a more figurative sense, samples which lie outside of the support of the real and fake images will be very noisy and can blow\n",
    "up massively which disturbs the training.\n",
    "Therefore, penalizing large gradients in the discriminator is from major importance.\n",
    "These considerations explain the observation, that GANs using the \"non saturating loss\" and the gradient penalty instead of _Wasserstein_ + GP\n",
    "are an alternative and stable GAN setup.\n",
    "\n",
    "<a name=\"sngan_theory\"></a>\n",
    "### Spectral Normalization\n",
    "\n",
    "The observation that stabilizing the gradient is a suitable way to train NSGANs (non saturating GANs), leads\n",
    "to idea to implement the Lipschitz constrain in a much more direct way. (Remember, we have to update the critic several times\n",
    "to get good feedback for ther generator).\n",
    "[Miyato, Kataoka, Koyama, Yoshida](https://arxiv.org/abs/1802.05957) proposed to do this, by normalizing the discriminator \n",
    "weights using the spectral norm.\n",
    "This will have the big advantage that the discriminator do not need to be updated several times, which increase the speed \n",
    "of thw GAN training.\n",
    "\n",
    "#### Spectral norm\n",
    "\n",
    "\n",
    "Let us remember the definition of the spectral norm:\n",
    "\n",
    "$\\sigma(\\mathbf{W}) = ||\\mathbf{W}||_{2} = \\max_{x\\neq 0} \\frac{||\\mathbf{W}x||_2}{||x||_2} = \\max_{||x||_2=1} ||\\mathbf{W}x||_2$.\n",
    "\n",
    "Figuratively speaking, the spectral norm of $W$ is the maximum stretch factor of a unit vector $x$ after multiplication with matrix $W$.\n",
    "\n",
    "<img src=\"https://cernbox.cern.ch/index.php/s/xDYiSmbleT3rip4/download?path=%2Fgan%2Fimages&files=streched_vector.png\" alt=\"drawing by Quartl - wikipedia\" width=\"300\"/>\n",
    "<div style=\"text-align: right\"> image credit: Quartl, wikipedia </div>\n",
    "\n",
    "This allows us to draw a connection between the Lipschitz norm and spectral normalization.\n",
    "\n",
    "So we can express the Lipschitz norm using the spectral norm:\n",
    "\n",
    "$||D(x)||_{\\mathrm{Lip}} = \\sup_{x} \\sigma(\\nabla_x D(x))=  \\sup_{x} \\sigma(\\nabla_x Wx) = \\sigma(W)$\n",
    " \n",
    "We cann see directly, that for enforcing a similar Lipschitz constrain as used in WGAN-GP $||D(x)||_{\\mathrm{Lip}} \\leq 1$\n",
    "we can just normalize the weights $W$ using: \n",
    "\n",
    "$\\mathbf{W}_{SN}=\\frac{\\mathbf{W}}{\\sigma(\\mathbf{W})}$\n",
    "\n",
    "Because calculating the spectral norm can be quiet time consuming, the proposed approach is to use a fast approximation of the spectral norm\n",
    "using the _power iteration method_.\n",
    "\n",
    "Note that this type of normalization is different then typical regularization like L1 or L2, because using spectral\n",
    "normalization we are **not** adding an additional penalty term to the objective.\n",
    "\n",
    "In a figurative sense, just think of the normalization of the SN-GAN, as referee to control the gradient.\n",
    "Our discriminator now get as as input a vector $f$ of features. In the first layer the weight matrix $W$ is multiplied with this vector $f$.\n",
    "(normal transformation in fully connected layers). So the feature vector is rotated and stretched.\n",
    "Now, we constrain the weight matrix $W$ with the spectral norm. Hence, no transformations with a stretching factor larger than 1\n",
    "is allowed (just see the image of the spectral norm for an easy understanding). These normalization helps to prevent that\n",
    "the layer focus on a specific feature (direction) only which would induce large gradients.\n",
    "This helps to control the gradients of the discriminator outside the distribution of real and fake samples and prevents mode collapsing.\n",
    "</p>\n",
    "</details>\n",
    "\n",
    "<a name=\"sngan_code\"></a>\n",
    "## Spectral Normalization GANs for Cosmic Ray induced Air Showers\n",
    "\n",
    "After dealing with the CIFAR dataset let us now tackle our first **physics dataset** with GANs:\n",
    "a dataset of cosmic ray induced air showers.\n",
    "When ultra-high energy cosmic rays (UHECRs) penetrate the atmosphere of the earth, they interact with the air molecules and \n",
    "particle cascades are created. For air showers induced by UHECRs (energies > 10 EeV) the footprint on the Earth's surface\n",
    "is in the order of several 10 km².\n",
    "The dataset contains footprints of air showers measured by observatories like the [Pierre Auger Observatory](https://www.auger.org/)\n",
    "and induced by cosmic rays between 1 - 100 EeV and was used to train the first Wasserstein GAN on physics data [Comput Softw Big Sci (2018) 2: 4.](https://link.springer.com/article/10.1007%2Fs41781-018-0008-x).\n",
    "The dataset was generated using a parametrized simulation, and described in [Astropart. Phys. 97 (2017) 46](https://www.sciencedirect.com/science/article/pii/S0927650517302219?via%3Dihub),\n",
    "additionally [you can download the code](https://git.rwth-aachen.de/DavidWalz/airshower).\n",
    "\n",
    "Note that several things changed, after switching the dataset from photographs to physics:\n",
    "\n",
    "|Type| Signal Patterns (Calorimeter images)        |  Pictures           |\n",
    "| :------------- :| :------------- :|:-------------:|\n",
    "| Channels | many, up to tenth of layers   | 3 (RGB) |\n",
    "| Resolution | relatively low (20 x 20) | high resolution (higher than 1000 x 1000)    |\n",
    "| Pixel range | several magnitudes, **logarithmic**  | 0-255, **linear**|\n",
    "| Distribution pixels | sparse, high local correlations | coherent, high local and global correlations |\n",
    "\n",
    "Especially the logarithmic distribution of signals and the sparsity offer a new challenge.\n",
    "\n",
    "The SN-GAN is a nice alternative to the Wasserstein GAN, by \"encoding\" the Lipschitz constrain directly in the weights of\n",
    "the discriminator.\n",
    "For this reason, let us implement our first SN-GAN.\n",
    "\n",
    "## Implementation of SN-GAN\n",
    "\n",
    "No we are going to implement a Generative Adversarial Network using spectral normalization in the disciriminator.\n",
    "\n",
    "First of all we need the basic imports:"
   ]
  },
  {
   "cell_type": "code",
   "execution_count": null,
   "metadata": {
    "pycharm": {
     "is_executing": false,
     "metadata": false,
     "name": "#%%\n"
    }
   },
   "outputs": [],
   "source": [
    "import tensorflow as tf\n",
    "import numpy as np\n",
    "import tutorial as tut\n",
    "\n",
    "layers = tf.layers\n",
    "tfgan = tf.contrib.gan\n",
    "\n"
   ]
  },
  {
   "cell_type": "code",
   "execution_count": null,
   "metadata": {
    "pycharm": {
     "is_executing": false,
     "metadata": false,
     "name": "#%%\n"
    }
   },
   "outputs": [],
   "source": [
    "LATENT_DIM = 512\n",
    "path_cr = tut.get_file(\"gan/data/airshower_footprints.npz\")\n",
    "\n",
    "def cr_batched_dataset(BATCH_SIZE, LATENT_DIM, generator_fn):\n",
    "    Dataset = tf.data.Dataset.from_generator(\n",
    "        lambda: generator_fn(LATENT_DIM), output_types=(tf.float32, tf.float32),\n",
    "        output_shapes=(tf.TensorShape((LATENT_DIM,)), tf.TensorShape((9, 9, 1))))\n",
    "    return Dataset.batch(BATCH_SIZE)\n",
    "\n",
    "\n",
    "def cr_data_generator(LATENT_DIM):\n",
    "    while True:\n",
    "        file = np.load(path_cr)\n",
    "        footprints = file['shower_maps']\n",
    "        nsamples = footprints.shape[0]\n",
    "        noise = np.random.randn(nsamples, LATENT_DIM).reshape(nsamples, LATENT_DIM)\n",
    "        idx = np.random.permutation(nsamples)\n",
    "        noise = noise[idx]\n",
    "        footprints = footprints[idx]\n",
    "        for i in range(nsamples):\n",
    "            yield (noise[i], footprints[i])\n"
   ]
  },
  {
   "cell_type": "markdown",
   "metadata": {
    "pycharm": {
     "metadata": false,
     "name": "#%% md\n"
    }
   },
   "source": [
    "Let us check the pipeline and plot a few air shower footprints from the \"real dataset\".\n",
    "The footprints were already preprocessed using $S' = log10(S+1)$ and by shifting the hottest station into the center of \n",
    "the footprint."
   ]
  },
  {
   "cell_type": "code",
   "execution_count": null,
   "metadata": {
    "pycharm": {
     "is_executing": false,
     "metadata": false,
     "name": "#%%\n"
    }
   },
   "outputs": [],
   "source": [
    "from plotting import plot_multiple_footprints\n",
    "import itertools\n",
    "\n",
    "test_footprints = np.array(list(itertools.islice(cr_data_generator(0), 16)))[:, 1]\n",
    "plot_multiple_footprints(test_footprints)\n"
   ]
  },
  {
   "cell_type": "markdown",
   "metadata": {
    "pycharm": {
     "metadata": false,
     "name": "#%% md\n"
    }
   },
   "source": [
    "\n",
    "To generate air shower footprints we now can start to implement our generator and discriminator.\n"
   ]
  },
  {
   "cell_type": "code",
   "execution_count": null,
   "metadata": {
    "pycharm": {
     "is_executing": false,
     "metadata": false,
     "name": "#%%\n"
    }
   },
   "outputs": [],
   "source": [
    "LATENT_DIM=80\n",
    "\n",
    "def generator_fn_cr(x, latent_dim=LATENT_DIM):\n",
    "    x = layers.Dense(1 * 1 * 256, activation='relu', input_shape=(latent_dim,))(x)  #\n",
    "    x = tf.reshape(x, shape=[BATCH_SIZE, 1, 1, 256])\n",
    "    x = layers.Conv2DTranspose(256, (3, 3), strides=(3, 3), padding='same', activation='relu')(x)\n",
    "    x = layers.BatchNormalization()(x)\n",
    "    x = layers.Conv2DTranspose(128, (3, 3), strides=(3, 3), padding='same', activation='relu')(x)\n",
    "    x = layers.BatchNormalization()(x)\n",
    "    x = layers.Conv2DTranspose(64, (3, 3), padding='same', activation='relu')(x)\n",
    "    x = layers.BatchNormalization()(x)\n",
    "    x = layers.Conv2D(64, (3, 3), padding='same', activation='relu')(x)\n",
    "    x = layers.BatchNormalization()(x)\n",
    "    x = layers.Conv2D(1, (3, 3), padding='same', kernel_initializer=tf.initializers.random_uniform(minval=0, maxval=2.), activation='relu')(x)\n",
    "    return x\n",
    " "
   ]
  },
  {
   "cell_type": "markdown",
   "metadata": {
    "pycharm": {
     "metadata": false
    }
   },
   "source": [
    "This generator just follows the typical DCGAN structure using transposed convolutions and maps from `(laten_dim,)` to footprints\n",
    "with shape`(9,9,1)`.\n",
    "\n",
    "Note that in the last layer we need to have a 'ReLU' activation, as the footprints are very sparse.\n",
    "In the early stage of the training, this can lead to dying ReLUs and sparse gradients, hence we can initialize the\n",
    "bias vector to 0 (default) and the weights between [0, 2] to overcome this issue.\n",
    "\n",
    "Thereafter, we can build our discriminator. Here, we need to implement spectral normalization in our layers.\n",
    "\n",
    "### Implementation of the Spectral norm\n",
    "The implementation of the spectral norm is relatively straight forward, we just have to control the weights in the respective layer.\n",
    "Hence, we have to wrap the normalization around the normal layer.\n",
    "\n",
    "Let us try to build a fully connected layer using spectral normalization.\n"
   ]
  },
  {
   "cell_type": "code",
   "execution_count": null,
   "metadata": {
    "pycharm": {
     "is_executing": false,
     "metadata": false,
     "name": "#%%\n"
    }
   },
   "outputs": [],
   "source": [
    "from ganlayers import spectral_norm  # function returns W / SN(W), normalized weight matrix using the power iteration method\n",
    "\n",
    "def dense_sn(inputs, units, name,\n",
    "             activation_fn=None,\n",
    "             use_bias=True,\n",
    "             kernel_initializer=tf.glorot_uniform_initializer(),\n",
    "             bias_initializer=tf.zeros_initializer(),\n",
    "             use_gamma=False,\n",
    "             factor=None):\n",
    "\n",
    "    input_shape = inputs.get_shape().as_list()\n",
    "\n",
    "    with tf.variable_scope(name):\n",
    "        kernel = tf.get_variable('kernel', shape=(input_shape[-1], units), initializer=kernel_initializer)  # create new weight matrix\n",
    "        outputs = tf.matmul(inputs, spectral_norm(kernel, use_gamma=use_gamma, factor=factor))  # apply linear transformation\n",
    "        if use_bias is True:\n",
    "            bias = tf.get_variable('bias', shape=(units,), initializer=bias_initializer)\n",
    "            outputs = tf.nn.bias_add(outputs, bias)  # add bias\n",
    "        if activation_fn is not None:\n",
    "            outputs = activation_fn(outputs)  # apply non-linear activation to the output \n",
    "\n",
    "    return outputs\n"
   ]
  },
  {
   "cell_type": "markdown",
   "metadata": {
    "pycharm": {
     "metadata": false
    }
   },
   "source": [
    "\n",
    "We can now use the layer to build the discriminator. (The layer `conv2d_sn` is implemented in a similar way as `dense_sn`.)\n"
   ]
  },
  {
   "cell_type": "code",
   "execution_count": null,
   "metadata": {
    "pycharm": {
     "metadata": false,
     "name": "#%%\n"
    }
   },
   "outputs": [],
   "source": [
    "from ganlayers import conv2d_sn\n",
    "\n",
    "def discriminator_fn_cr(x):\n",
    "    x = conv2d_sn(x, 64, (3, 3), name='sn_conv00', padding='same')\n",
    "    x = tf.nn.leaky_relu(x, 0.2)\n",
    "    x = layers.BatchNormalization()(x)\n",
    "    x = conv2d_sn(x, 64, (4, 4), name='sn_conv01', padding='same', strides=(2, 2))\n",
    "    x = tf.nn.leaky_relu(x, 0.2)\n",
    "    x = layers.BatchNormalization()(x)\n",
    "    x = conv2d_sn(x, 128, (3, 3), name='sn_conv10', padding='same')\n",
    "    x = tf.nn.leaky_relu(x, 0.2)\n",
    "    x = layers.BatchNormalization()(x)\n",
    "    x = conv2d_sn(x, 128, (4, 4), name='sn_conv11', padding='same', strides=(2, 2))\n",
    "    x = tf.nn.leaky_relu(x, 0.2)\n",
    "    x = layers.BatchNormalization()(x)\n",
    "    x = conv2d_sn(x, 256, (3, 3), name='sn_conv20', padding='same')\n",
    "    x = tf.nn.leaky_relu(x, 0.2)\n",
    "    x = layers.Flatten()(x)\n",
    "    x = dense_sn(x, 1, name='output')\n",
    "    return x\n"
   ]
  },
  {
   "cell_type": "code",
   "execution_count": null,
   "metadata": {
    "pycharm": {}
   },
   "outputs": [],
   "source": [
    "BATCH_SIZE = 128\n",
    "GEN_LR = 0.0001\n",
    "DIS_LR = 0.0001\n",
    "GP = 10\n",
    "N_CRIT = 1"
   ]
  },
  {
   "cell_type": "markdown",
   "metadata": {
    "pycharm": {
     "metadata": false,
     "name": "#%% md\n"
    }
   },
   "source": [
    "After the last layer we do not need to apply an activation, hence this can be controlled using the loss provided by `tf.gan`.\n",
    "\n",
    "Subsequently, we can build our estimator.\n",
    "Remember that we need the **non saturating** loss `tfgan.losses.modified_generator_loss`, to prevent vanishing gradients.\n"
   ]
  },
  {
   "cell_type": "code",
   "execution_count": null,
   "metadata": {
    "pycharm": {
     "metadata": false,
     "name": "#%% \n"
    }
   },
   "outputs": [],
   "source": [
    "sn_dir = tut.get_file(\"gan/models/SN_GAN\")\n",
    "\n",
    "gan_estimator = tfgan.estimator.GANEstimator(\n",
    "    sn_dir,\n",
    "    generator_fn=generator_fn_cr,\n",
    "    discriminator_fn=discriminator_fn_cr,\n",
    "    generator_loss_fn=tfgan.losses.modified_generator_loss,\n",
    "    discriminator_loss_fn=tfgan.losses.modified_discriminator_loss,\n",
    "    generator_optimizer=tf.train.AdamOptimizer(GEN_LR, 0.5),\n",
    "    discriminator_optimizer=tf.train.AdamOptimizer(DIS_LR, 0.5),\n",
    "    get_hooks_fn=tfgan.get_sequential_train_hooks(tfgan.GANTrainSteps(1, N_CRIT)),\n",
    "    config=tf.estimator.RunConfig(save_summary_steps=100, keep_checkpoint_max=3, save_checkpoints_steps=10000),\n",
    "    use_loss_summaries=True)\n"
   ]
  },
  {
   "cell_type": "markdown",
   "metadata": {
    "pycharm": {
     "metadata": false,
     "name": "#%% md\n"
    }
   },
   "source": [
    "Afterwards, we could train our estimator.\n",
    "\n",
    "### Results\n",
    "But instead training, we load a pretrained model again which was trained around 5h on a Nvidia 1080 GTX and plot some \n",
    "air shower footprints generated by our model."
   ]
  },
  {
   "cell_type": "code",
   "execution_count": null,
   "metadata": {
    "pycharm": {
     "metadata": false,
     "name": "#%%\n"
    }
   },
   "outputs": [],
   "source": [
    "gan_estimator.train(lambda: cr_batched_dataset(BATCH_SIZE, LATENT_DIM, cr_data_generator), max_steps=1000)\n",
    "iter = gan_estimator.predict(lambda: cr_batched_dataset(BATCH_SIZE, LATENT_DIM, cr_data_generator))\n",
    "generated = []\n",
    "\n",
    "for i, gen_foot in zip(range(1000), iter):\n",
    "    generated.append(gen_foot)\n",
    "\n",
    "generated = np.array(generated)    \n",
    "plot_multiple_footprints(generated)\n"
   ]
  },
  {
   "cell_type": "markdown",
   "metadata": {
    "pycharm": {
     "metadata": false,
     "name": "#%% md\n"
    }
   },
   "source": [
    "We can see concentrated showers in the center of the array cutout, and a decrease of signals for stations with\n",
    "higher distances to the shower core. This exactly what we would expect from physics.\n",
    "\n",
    "Let us now do a more quantitative analysis of our generated showers and compare the distributions of total signal. "
   ]
  },
  {
   "cell_type": "code",
   "execution_count": null,
   "metadata": {
    "pycharm": {
     "metadata": false,
     "name": "#%%\n"
    }
   },
   "outputs": [],
   "source": [
    "from plotting import plot_total_signal\n",
    "import tutorial as tut\n",
    "\n",
    "path_cr = tut.get_file(\"gan/data/airshower_footprints.npz\")\n",
    "file = np.load(path_cr)\n",
    "data = file['shower_maps'][0:1000]\n",
    "\n",
    "plot_total_signal(fake=np.sum(generated, axis=(3, 2, 1)), data=np.sum(\n",
    "    data, axis=(3, 2, 1)))\n"
   ]
  },
  {
   "cell_type": "markdown",
   "metadata": {
    "pycharm": {
     "metadata": false,
     "name": "#%% md\n"
    }
   },
   "source": [
    "Furthermore, we can investigate the sparsity of the images and compare if the distributions of stations with measured signals \n",
    "is similar."
   ]
  },
  {
   "cell_type": "code",
   "execution_count": null,
   "metadata": {
    "pycharm": {
     "metadata": false,
     "name": "#%%\n"
    }
   },
   "outputs": [],
   "source": [
    "from plotting import plot_cell_number_histo\n",
    "\n",
    "plot_cell_number_histo(fake=np.sum(generated > 0, axis=(\n",
    "    3, 2, 1)), data=np.sum(data > 0, axis=(3, 2, 1)))\n"
   ]
  },
  {
   "cell_type": "markdown",
   "metadata": {
    "pycharm": {
     "metadata": false,
     "name": "#%% md\n"
    }
   },
   "source": [
    "\n",
    "\n",
    "###### Discriminator Loss \n",
    "When studying the loss of the discriminator we can not see any kind of convergence.\n",
    "We have still the same issue of not estimating a distance in the discriminator but classifying only.\n",
    "<img src=\"https://cernbox.cern.ch/index.php/s/xDYiSmbleT3rip4/download?path=%2Fgan%2Fmodels%2FSN_GAN&files=loss.svg\" alt=\"drawing\" width=\"800\"/>\n",
    "\n",
    "###### Generated samples during training\n",
    "<img src=\"https://cernbox.cern.ch/index.php/s/xDYiSmbleT3rip4/download?path=%2Fgan%2Fmodels%2FSN_GAN&files=airshower_SN_GAN.gif\" width=\"600\"/>\n",
    "\n",
    "\n",
    "## Calorimeter images\n",
    "\n",
    "Let us now put all together and build a combination of spectral normalization and WGAN.\n",
    "Because the _gradient penalty_ put a similar constraint on the critic/discriminator but on a different way than using\n",
    "spectral normalization, as you can see in the following table.\n",
    "\n",
    "##### Differences between Spectral Normalization and Gradient Penalty\n",
    "| Wasserstein | Spectral Normalization |\n",
    "| :-------------: | :-------------: |\n",
    "| constrain gradient directly | uses weight normalization |\n",
    "| non stationary training routine \"local normalization\" | relatively stable training \"global normalization\" |\n",
    "| $\\checkmark$ nearly no constrain of feature learning | $\\times$ can reduce complexity of feature space |\n",
    "| $\\times$ Needs $\\geq 5$ discriminator iterations | $\\checkmark$ only $1$ discriminator iteration needed |\n",
    "| $\\times$ Needs tuning of learning rates an \"ncr\" iterations | $\\checkmark$ stable training for a wide range of parameters |\n",
    "| $\\checkmark$ provides meaningful metric | $\\times$ do not provides meaningful metric |\n",
    "\n",
    " So let us take the best of both worlds an combine both techniques. \n",
    "\n",
    "### Spectral Normalization in the generator\n",
    "\n",
    "Recently, it was found that the singular values of the generator are related to the GAN performance.\n",
    "[Odena et al.](https://arxiv.org/abs/1802.08768) proposed to use __Jacobian clamping__ to stabilize the training process.\n",
    "Since, spectral normalization is performing similar we will use spectral normalization instead.\n",
    "\n",
    "### Implementation\n",
    "Let us use for this last GAN implementation a much more complicated dataset as very similar used in [Erdmann, Glombitza, Quast](https://link.springer.com/article/10.1007%2Fs41781-018-0019-7).\n",
    "For simplicity reasons we are only using 3 layers and a single energy of 100 GeV electrons.\n",
    "Hence, using label conditioning is useless in this setup. \n",
    "\n",
    "So let us begin to implement the data pipeline and plot some calorimeter images.\n"
   ]
  },
  {
   "cell_type": "code",
   "execution_count": null,
   "metadata": {
    "pycharm": {
     "metadata": false,
     "name": "#%%\n"
    }
   },
   "outputs": [],
   "source": [
    "import tensorflow as tf\n",
    "import numpy as np\n",
    "from plotting import plot_calo_images\n",
    "import tutorial as tut\n",
    "\n",
    "path_calo = tut.get_file(\"gan/data/3_layer_calorimeter_padded.npz\")\n",
    "\n",
    "def calo_batched_dataset(BATCH_SIZE, LATENT_DIM, generator_fn):\n",
    "    Dataset = tf.data.Dataset.from_generator(\n",
    "        lambda: generator_fn(LATENT_DIM), output_types=(tf.float32, tf.float32),\n",
    "        output_shapes=(tf.TensorShape((LATENT_DIM,)), tf.TensorShape((15, 15, 3))))\n",
    "    return Dataset.batch(BATCH_SIZE)\n",
    "\n",
    "\n",
    "def calo_data_generator(LATENT_DIM):\n",
    "    while True:\n",
    "        calo_ims = np.load(path_calo)['data']\n",
    "        nsamples = calo_ims.shape[0]\n",
    "        calo_ims = np.log10(calo_ims+1)\n",
    "        calo_ims = calo_ims.astype(np.float32)\n",
    "        noise = np.random.randn(nsamples, LATENT_DIM).reshape(nsamples, LATENT_DIM)\n",
    "        idx = np.random.permutation(nsamples)\n",
    "        noise = noise[idx]\n",
    "        calo_ims = calo_ims[idx]\n",
    "        for i in range(nsamples):\n",
    "            yield (noise[i], calo_ims[i])\n",
    "\n",
    "\n",
    "import itertools\n",
    "images = np.array(list(itertools.islice(calo_data_generator(1), 3)))[:, 1]\n",
    "images = 10**images - 1\n",
    "plot_calo_images(images)\n"
   ]
  },
  {
   "cell_type": "markdown",
   "metadata": {
    "pycharm": {
     "metadata": false,
     "name": "#%% md\n"
    }
   },
   "source": [
    "We can observed sparse showers evolving in the electromagnetic sampling calorimeter.\n",
    "Furthermore, we can see that our calorimeter features a hexagonal grid. Therefore, we use offset coordinates as described\n",
    "in [Astropart. Phys. 97 (2017) 46](https://www.sciencedirect.com/science/article/pii/S0927650517302219)."
   ]
  },
  {
   "cell_type": "code",
   "execution_count": null,
   "metadata": {
    "pycharm": {
     "metadata": false,
     "name": "#%%\n"
    }
   },
   "outputs": [],
   "source": [
    "layers = tf.layers\n",
    "tfgan = tf.contrib.gan\n",
    "from ganlayers import conv2d_transpose_sn, conv2d_sn, dense_sn\n",
    "LATENT_DIM=64\n",
    "\n",
    "def generator_fn(x, latent_dim=LATENT_DIM):\n",
    "    x = layers.Dense(3 * 3 * 256, activation='relu')(x)  #\n",
    "    x = tf.reshape(x, shape=[BATCH_SIZE, 3, 3, 256])\n",
    "    x = conv2d_transpose_sn(x, 256, (4, 4), strides=(2, 2), padding='same', name='sn_conv_gen_transposed01', activation=tf.nn.relu)\n",
    "    x = layers.BatchNormalization()(x)\n",
    "    x = conv2d_transpose_sn(x, 128, (3, 3), strides=(2, 2), padding='valid', name='sn_conv_gen_transposed02', activation=tf.nn.relu)\n",
    "    x = layers.BatchNormalization()(x)\n",
    "    x = conv2d_transpose_sn(x, 64, (3, 3), padding='valid', name='sn_conv_gen_transposed03', activation=tf.nn.relu)\n",
    "    x = layers.BatchNormalization()(x)\n",
    "    x = conv2d_sn(x, 64, (3, 3), name=\"sn_gen_conv01\", padding='same', activation=tf.nn.relu)\n",
    "    x = layers.BatchNormalization()(x)\n",
    "    x = conv2d_sn(x, 3, (3, 3), name=\"sn_gen_conv02\", padding='same', kernel_initializer=tf.initializers.random_uniform(minval=0.1, maxval=100.), activation=tf.nn.relu)\n",
    "    return x\n"
   ]
  },
  {
   "cell_type": "markdown",
   "metadata": {
    "pycharm": {
     "metadata": false,
     "name": "#%% md\n"
    }
   },
   "source": [
    "In the generator we make use of spectral normalization and batch normalization.\n",
    "Note, that we again uses the initialization trick in the last layer of the generator to overcome dying ReLUs and sparse gradients which can lead to a collapse of the training.."
   ]
  },
  {
   "cell_type": "code",
   "execution_count": null,
   "metadata": {
    "pycharm": {
     "metadata": false,
     "name": "#%%\n"
    }
   },
   "outputs": [],
   "source": [
    "def discriminator_fn(x, drop_rate=0.25):\n",
    "    \"\"\" Discriminator network \"\"\"\n",
    "    x = conv2d_sn(x, 64, (3, 3), name=\"sn_conv01\", padding='same')\n",
    "    x = tf.contrib.layers.layer_norm(x)\n",
    "    x = tf.nn.leaky_relu(x, 0.2)\n",
    "    x = conv2d_sn(x, 64, (5, 5), name=\"sn_conv02\", padding='same', strides=(2, 2))\n",
    "    x = tf.contrib.layers.layer_norm(x)\n",
    "    x = tf.nn.leaky_relu(x, 0.2)\n",
    "    x = conv2d_sn(x, 128, (3, 3), name=\"sn_conv03\", padding='same')\n",
    "    x = tf.contrib.layers.layer_norm(x)\n",
    "    x = tf.nn.leaky_relu(x, 0.2)\n",
    "    x = conv2d_sn(x, 128, (4, 4), name=\"sn_conv04\", padding='same', strides=(2, 2))\n",
    "    x = tf.contrib.layers.layer_norm(x)\n",
    "    x = tf.nn.leaky_relu(x, 0.2)\n",
    "    x = conv2d_sn(x, 256, (3, 3), name=\"sn_conv05\", padding='same')\n",
    "    x = tf.contrib.layers.layer_norm(x)\n",
    "    x = tf.nn.leaky_relu(x, 0.2)\n",
    "    x = conv2d_sn(x, 512, (3, 3), name=\"sn_conv06\", padding='same')\n",
    "    x = tf.contrib.layers.layer_norm(x)\n",
    "    x = tf.nn.leaky_relu(x, 0.2)\n",
    "    x = layers.Flatten()(x)\n",
    "    x = dense_sn(x, 1, name='sn_dense01')\n",
    "    return x\n"
   ]
  },
  {
   "cell_type": "markdown",
   "metadata": {
    "pycharm": {
     "metadata": false
    }
   },
   "source": [
    "After we successfully implemented our generator and critic network, we need to implement the Wasserstein loss with gradient penalty\n"
   ]
  },
  {
   "cell_type": "code",
   "execution_count": null,
   "metadata": {
    "pycharm": {
     "metadata": false,
     "name": "#%%\n"
    }
   },
   "outputs": [],
   "source": [
    "def discriminator_loss(model, add_summaries=True):\n",
    "\n",
    "    loss = tf.contrib.gan.losses.wasserstein_discriminator_loss(model, add_summaries=add_summaries)\n",
    "    gp_loss = GP * tf.contrib.gan.losses.wasserstein_gradient_penalty(model, epsilon=1e-10, one_sided=True, add_summaries=add_summaries)\n",
    "    loss += gp_loss\n",
    "\n",
    "    if add_summaries:\n",
    "        tf.summary.scalar('discriminator_loss', loss)\n",
    "\n",
    "    return loss\n",
    " "
   ]
  },
  {
   "cell_type": "markdown",
   "metadata": {
    "pycharm": {
     "metadata": false,
     "name": "#%% md\n"
    }
   },
   "source": [
    "To start generating calorimeter samples let us build our framework using the GANEstimator and set the training parameters."
   ]
  },
  {
   "cell_type": "code",
   "execution_count": null,
   "metadata": {
    "pycharm": {
     "metadata": false,
     "name": "#%% \n"
    }
   },
   "outputs": [],
   "source": [
    "BATCH_SIZE = 64\n",
    "GEN_LR = 0.0001\n",
    "DIS_LR = 0.0001\n",
    "GP = 10\n",
    "N_CRIT = 5\n",
    "wgan_sn_dir = tut.get_file(\"gan/models/WGAN_SN\")\n",
    "\n",
    "\n",
    "gan_estimator = tfgan.estimator.GANEstimator(\n",
    "    wgan_sn_dir,\n",
    "    generator_fn=generator_fn,\n",
    "    discriminator_fn=discriminator_fn,\n",
    "    generator_loss_fn=tfgan.losses.wasserstein_generator_loss,\n",
    "    discriminator_loss_fn=discriminator_loss,\n",
    "    generator_optimizer=tf.train.AdamOptimizer(GEN_LR, 0.5, 0.9),\n",
    "    discriminator_optimizer=tf.train.AdamOptimizer(DIS_LR, 0.5, 0.9),\n",
    "    get_hooks_fn=tfgan.get_sequential_train_hooks(tfgan.GANTrainSteps(1, N_CRIT)),\n",
    "    config=tf.estimator.RunConfig(save_summary_steps=100, keep_checkpoint_max=3, save_checkpoints_steps=10000),\n",
    "    use_loss_summaries=True)\n"
   ]
  },
  {
   "cell_type": "markdown",
   "metadata": {
    "pycharm": {
     "metadata": false,
     "name": "#%% md\n"
    }
   },
   "source": [
    "Again we load a pretrained model and inspect first samples generated by our model.\n"
   ]
  },
  {
   "cell_type": "code",
   "execution_count": null,
   "metadata": {
    "pycharm": {
     "metadata": false,
     "name": "#%%\n"
    }
   },
   "outputs": [],
   "source": [
    "from plotting import plot_average_image, plot_calo_images\n",
    "\n",
    "calo_iter = gan_estimator.predict(lambda: calo_batched_dataset(BATCH_SIZE, LATENT_DIM, calo_data_generator))\n",
    "generated_calo = []\n",
    "for i, image in zip(range(1000), calo_iter):\n",
    "    generated_calo.append(10**image - 1)\n",
    "    if i%100 == 0:\n",
    "        print(\"iteration\", i)\n",
    "generated_calo = np.array(generated_calo)\n",
    "plot_calo_images(generated_calo)\n"
   ]
  },
  {
   "cell_type": "markdown",
   "metadata": {
    "pycharm": {
     "metadata": false
    }
   },
   "source": [
    "We can further investigate the correlations between the layer.\n",
    "It is from major importance that our generative model is able to capture this correlations!\n",
    "\n",
    "Note that genrating new samples using jupyter notebooks on a CPU can be quiet time consuming.  "
   ]
  },
  {
   "cell_type": "code",
   "execution_count": null,
   "metadata": {
    "pycharm": {
     "metadata": false,
     "name": "#%%\n"
    }
   },
   "outputs": [],
   "source": [
    "from plotting import plot_layer_correlations\n",
    "\n",
    "path_calo = tut.get_file(\"gan/data/3_layer_calorimeter_padded.npz\")\n",
    "calo_ims = np.load(path_calo)['data'][:1000]\n",
    "plot_layer_correlations(np.sum(calo_ims, axis=(1, 2)), datatype='data')\n",
    "plot_layer_correlations(np.sum(generated_calo, axis=(1, 2)), datatype='generated')\n"
   ]
  },
  {
   "cell_type": "markdown",
   "metadata": {
    "pycharm": {
     "metadata": false
    }
   },
   "source": [
    "\n",
    "Finally, we will have a look on the occupancy of the generated and real samples.\n"
   ]
  },
  {
   "cell_type": "code",
   "execution_count": null,
   "metadata": {
    "pycharm": {
     "metadata": false,
     "name": "#%%\n"
    }
   },
   "outputs": [],
   "source": [
    "import numpy as np\n",
    "from plotting import plot_cell_number_histo\n",
    "plot_cell_number_histo(fake=np.sum(generated_calo > 0, axis=(1, 2, 3)), data=np.sum(calo_ims > 0, axis=(1, 2, 3)))\n"
   ]
  },
  {
   "cell_type": "markdown",
   "metadata": {
    "pycharm": {
     "metadata": false,
     "name": "#%% md\n"
    }
   },
   "source": [
    "It is a well known in the HEP community (see [here](https://link.springer.com/article/10.1007%2Fs41781-018-0019-7) or [here](https://journals.aps.org/prd/abstract/10.1103/PhysRevD.97.014021)),\n",
    "that the sparsity in calorimeters is a big challenge and needs further investigations."
   ]
  }
 ],
 "metadata": {
  "kernelspec": {
   "display_name": "Python 3",
   "language": "python",
   "name": "python3"
  },
  "language_info": {
   "codemirror_mode": {
    "name": "ipython",
    "version": 3
   },
   "file_extension": ".py",
   "mimetype": "text/x-python",
   "name": "python",
   "nbconvert_exporter": "python",
   "pygments_lexer": "ipython3",
   "version": "3.6.7"
  }
 },
 "nbformat": 4,
 "nbformat_minor": 1
}
